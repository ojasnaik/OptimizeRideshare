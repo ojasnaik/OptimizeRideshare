{
 "nbformat": 4,
 "nbformat_minor": 0,
 "metadata": {
  "colab": {
   "provenance": []
  },
  "kernelspec": {
   "name": "python3",
   "display_name": "Python 3"
  },
  "language_info": {
   "name": "python"
  }
 },
 "cells": [
  {
   "cell_type": "code",
   "source": [
    "import pandas as pd\n",
    "\n",
    "\n",
    "file_path = '/content/data.csv'\n",
    "\n",
    "try:\n",
    "    data = pd.read_csv(\n",
    "        file_path,\n",
    "        error_bad_lines=False,\n",
    "        warn_bad_lines=True\n",
    "    )\n",
    "except Exception as e:\n",
    "    print(f\"An error occurred: {e}\")\n",
    "\n",
    "\n",
    "data = data.dropna(subset=['start_station_name', 'end_station_name', 'start_station_id', 'end_station_id'])\n",
    "\n",
    "for col in ['start_station_name', 'end_station_name', 'start_station_id', 'end_station_id']:\n",
    "    data[col] = data[col].astype(str)\n",
    "\n",
    "\n",
    "data = data[data['rideable_type'] != 'electric_bike']\n",
    "\n",
    "\n",
    "data['ride_duration'] = (pd.to_datetime(data['ended_at']) - pd.to_datetime(data['started_at'])).dt.total_seconds()\n",
    "\n",
    "\n",
    "data = data[data['start_station_name'] != data['end_station_name']]\n",
    "\n",
    "\n",
    "data['station_pair'] = data.apply(\n",
    "    lambda row: tuple(sorted([row['start_station_name'], row['end_station_name']])),\n",
    "    axis=1\n",
    ")\n",
    "\n",
    "\n",
    "grouped = data.groupby('station_pair')\n",
    "\n",
    "\n",
    "results = grouped.filter(lambda x: len(x) > 1).groupby('station_pair').agg({\n",
    "    'ride_duration': 'median',\n",
    "    'start_station_name': 'first',\n",
    "    'end_station_name': 'first',\n",
    "    'start_station_id': 'first',\n",
    "    'end_station_id': 'first',\n",
    "    'start_lat': 'first',\n",
    "    'start_lng': 'first',\n",
    "    'end_lat': 'first',\n",
    "    'end_lng': 'first'\n",
    "}).rename(columns={'ride_duration': 'median_ride_duration (seconds)'})\n",
    "\n",
    "\n",
    "results = results.reset_index(drop=True)\n"
   ],
   "metadata": {
    "colab": {
     "base_uri": "https://localhost:8080/"
    },
    "id": "CmhF0ChIoMtm",
    "outputId": "34cff8a1-fe0c-4417-9f59-2ea987cbc283"
   },
   "execution_count": null,
   "outputs": []
  },
  {
   "cell_type": "code",
   "source": [
    "\n",
    "results.to_csv('final_ride_durations.csv', index=False)\n",
    "\n",
    "\n",
    "from google.colab import files\n",
    "files.download('final_ride_durations.csv')\n"
   ],
   "metadata": {
    "colab": {
     "base_uri": "https://localhost:8080/",
     "height": 17
    },
    "id": "sMbb1xsKTgbP",
    "outputId": "12aa67ec-537c-477d-ad8a-163a73c6b37d"
   },
   "execution_count": null,
   "outputs": []
  }
 ]
}
